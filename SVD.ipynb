{
 "cells": [
  {
   "cell_type": "code",
   "execution_count": null,
   "id": "0b1fc093",
   "metadata": {},
   "outputs": [],
   "source": [
    "import pandas as pd\n",
    "from surprise import Dataset, Reader\n",
    "from surprise import SVD\n",
    "from collections import defaultdict\n",
    "import random"
   ]
  },
  {
   "cell_type": "code",
   "execution_count": null,
   "id": "2075efa7",
   "metadata": {},
   "outputs": [],
   "source": [
    "df = pd.read_csv('csv/bid_userid_rating.csv')\n",
    "df = df.reindex(columns=['userid','bid','rating'])\n",
    "df"
   ]
  },
  {
   "cell_type": "code",
   "execution_count": null,
   "id": "897de554",
   "metadata": {},
   "outputs": [],
   "source": [
    "def get_top_n(uid, predictions, trainset, n=10):\n",
    "    \"\"\"Return the top-N recommendation for each user from a set of predictions.\n",
    "\n",
    "    Args:\n",
    "        predictions(list of Prediction objects): The list of predictions, as\n",
    "            returned by the test method of an algorithm.\n",
    "        n(int): The number of recommendation to output for each user. Default\n",
    "            is 10.\n",
    "\n",
    "    Returns:\n",
    "    A dict where keys are user (raw) ids and values are lists of tuples:\n",
    "        [(raw item id, rating estimation), ...] of size n.\n",
    "    \"\"\"\n",
    "\n",
    "    # First map the predictions to each user.\n",
    "    top_n = defaultdict(list)\n",
    "    for uid, iid, true_r, est, _ in predictions:\n",
    "        top_n[uid].append((iid, est))\n",
    "\n",
    "    # Then sort the predictions for each user and retrieve the k highest ones.\n",
    "    for uid, user_ratings in top_n.items():\n",
    "        user_ratings.sort(key=lambda x: x[1], reverse=True)\n",
    "        top_n[uid] = user_ratings[:n+n]\n",
    "    \n",
    "    # retrieve rated books based on user id\n",
    "    rated_books_raw_ids = []\n",
    "    rated_books_inner_ids = trainset.ur[trainset.to_inner_uid(uid)] #outputs item inner ids\n",
    "    for item in rated_books_inner_ids:\n",
    "        rated_books_raw_ids.append(trainset.to_raw_iid(item[0]))\n",
    "    \n",
    "    # remove from already rated books by user from top recommendations\n",
    "    for book in top_n[uid]:\n",
    "        if book[0] in rated_books_raw_ids:\n",
    "            top_n[uid].remove(book)\n",
    "    top_n[uid] = top_n[uid][:n]\n",
    "\n",
    "    return top_n\n",
    "\n",
    "#Function to get book meta data(id and title) from goodreads dataset\n",
    "def get_books_details(uid, top_n, trainset):\n",
    "    df_temp = pd.read_csv('csv/Final_Dataset.csv')\n",
    "    good_bid_list=[]\n",
    "    rating_list=[]\n",
    "    title_list=[]\n",
    "    inner_bid_list=[]\n",
    "    for bid, rating in top_n[uid]:\n",
    "        good_bid_list.append(bid)\n",
    "        rating_list.append(rating)\n",
    "        inner_bid_list.append(trainset.to_inner_iid(bid))\n",
    "        title_list.append(str(list(df_temp['good_title'].loc[df_temp['good_bid']==bid])))\n",
    "    final_df = pd.DataFrame({'good_bid':good_bid_list, 'title':title_list, 'inner_bid':inner_bid_list, 'estimated_rating': rating_list})\n",
    "    return final_df\n",
    "\n",
    "#Function to predict\n",
    "def predict(uid, trainset, algo, n=10):\n",
    "    predictions = []\n",
    "    for item in trainset.all_items(): #iterates over inside ids\n",
    "        predictions.append(algo.predict(uid, iid = trainset.to_raw_iid(item))) #inside id to raw id as predict function takes in raw ids\n",
    "    top_n = get_top_n(uid, predictions, trainset, n)\n",
    "    return get_books_details(uid, top_n, trainset)\n",
    "\n",
    "#Function to manipulate and evaluate\n",
    "def manipulate(uid, df, trainset, max_rating=3, num_books=3):\n",
    "    inner_bid_list=[]\n",
    "    #randomly selecting books which user has rated and rating is above given rating\n",
    "    selected_books=list(df['bid'].loc[(df['userid']==uid) & (df['rating']>=max_rating)].sample(n=num_books))\n",
    "    #replacing the rating value\n",
    "    df.loc[(df['userid']==uid) & (df['bid'].isin(selected_books)), 'rating']=0\n",
    "    #printing good reads is and inner id\n",
    "    inner_bid_list.extend([trainset.to_inner_iid(x) for x in selected_books])\n",
    "    selected_df=pd.DataFrame({'good_bid':selected_books, 'inner_bid':inner_bid_list})\n",
    "    print(selected_df)\n",
    "    return df\n",
    "\n",
    "#Function to initialize algorithm and loading data\n",
    "def initialize_algo(df):\n",
    "    reader = Reader(rating_scale=(1, 5))\n",
    "    data = Dataset.load_from_df(df[['userid','bid', 'rating']], reader)\n",
    "    trainset = data.build_full_trainset()\n",
    "    algo = SVD(biased=False)\n",
    "    algo.fit(trainset)\n",
    "    return trainset, algo"
   ]
  },
  {
   "cell_type": "code",
   "execution_count": null,
   "id": "0b810b76",
   "metadata": {},
   "outputs": [],
   "source": [
    "trainset, algo = initialize_algo(df)"
   ]
  },
  {
   "cell_type": "code",
   "execution_count": null,
   "id": "3742fec1",
   "metadata": {},
   "outputs": [],
   "source": [
    "predict(0, trainset, algo)"
   ]
  },
  {
   "cell_type": "code",
   "execution_count": null,
   "id": "a941a919",
   "metadata": {},
   "outputs": [],
   "source": [
    "df = manipulate(0, df, trainset)"
   ]
  },
  {
   "cell_type": "code",
   "execution_count": null,
   "id": "151c7a7e",
   "metadata": {},
   "outputs": [],
   "source": [
    "trainset, algo = initialize_algo(df)"
   ]
  },
  {
   "cell_type": "code",
   "execution_count": null,
   "id": "bb99d32d",
   "metadata": {},
   "outputs": [],
   "source": [
    "predict(0, trainset, algo)"
   ]
  },
  {
   "cell_type": "code",
   "execution_count": null,
   "id": "5634351e",
   "metadata": {},
   "outputs": [],
   "source": [
    "from surprise import SVD\n",
    "from surprise import Dataset\n",
    "from surprise.model_selection import GridSearchCV\n",
    "\n",
    "# Use movielens-100K\n",
    "#data = Dataset.load_builtin('ml-100k')\n",
    "reader = Reader(rating_scale=(1, 5))\n",
    "data = Dataset.load_from_df(df[['userid','bid', 'rating']], reader)\n",
    "    \n",
    "param_grid = {'n_epochs': [5, 10], 'lr_all': [0.002, 0.005],\n",
    "              'reg_all': [0.4, 0.6]}\n",
    "gs = GridSearchCV(SVD, param_grid, measures=['rmse', 'mae'], cv=3)\n",
    "\n",
    "gs.fit(data)\n",
    "\n",
    "# best RMSE score\n",
    "print(gs.best_score['rmse'])\n",
    "\n",
    "# combination of parameters that gave the best RMSE score\n",
    "print(gs.best_params['rmse'])"
   ]
  },
  {
   "cell_type": "code",
   "execution_count": null,
   "id": "2c4ee906",
   "metadata": {},
   "outputs": [],
   "source": [
    "algo = SVD(biased=False)\n",
    "algo"
   ]
  },
  {
   "cell_type": "code",
   "execution_count": null,
   "id": "e9e684e1",
   "metadata": {},
   "outputs": [],
   "source": []
  }
 ],
 "metadata": {
  "kernelspec": {
   "display_name": "Python 3 (ipykernel)",
   "language": "python",
   "name": "python3"
  },
  "language_info": {
   "codemirror_mode": {
    "name": "ipython",
    "version": 3
   },
   "file_extension": ".py",
   "mimetype": "text/x-python",
   "name": "python",
   "nbconvert_exporter": "python",
   "pygments_lexer": "ipython3",
   "version": "3.9.7"
  }
 },
 "nbformat": 4,
 "nbformat_minor": 5
}
