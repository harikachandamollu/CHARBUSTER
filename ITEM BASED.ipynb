{
 "cells": [
  {
   "cell_type": "code",
   "execution_count": 1,
   "id": "b5e8a6c8",
   "metadata": {},
   "outputs": [],
   "source": [
    "#Importing Libraries\n",
    "import ast\n",
    "import pandas as pd\n",
    "import numpy as np\n",
    "from scipy.sparse import isspmatrix\n",
    "from scipy.sparse import csr_matrix\n",
    "import random\n",
    "from sklearn.feature_extraction import DictVectorizer\n",
    "from sklearn.neighbors import NearestNeighbors\n",
    "from sklearn.metrics.pairwise import cosine_similarity\n",
    "\n",
    "#Function which imports dataset and transforms into matrix of items and users\n",
    "def load_data_into_matrix(sparse=True):\n",
    "    #Importing dataset into dataframe\n",
    "    data = pd.read_csv('csv/averaged_num_ratings.csv')\n",
    "\n",
    "    #Converting column of string(dictionaries {user:rating}) into a list of dictionaries\n",
    "    dict_list=[]\n",
    "    for index, row in data.iterrows():\n",
    "        temp_dict = ast.literal_eval(row['averaged_num_ratings'])\n",
    "        dict_list.append(temp_dict)\n",
    "\n",
    "    #Transforming list of dictionaries into numpy array using DictVectorizer\n",
    "    v = DictVectorizer(sparse=sparse)\n",
    "    D = dict_list\n",
    "    X = v.fit_transform(D)\n",
    "    #print('Shape of matrix:',X.shape)\n",
    "    #print(X)\n",
    "    #print('rows = books, columns = users')\n",
    "    return X\n",
    "\n",
    "\n",
    "#Function removes rated books, sorts top recommendations and indices along with original book ids and titles\n",
    "def top_recommendations(predicted_rating_list, rated_books, num_recommendations):\n",
    "    df = pd.DataFrame({'matrix_index':list(range(0,5993)),'predicted_rating':predicted_rating_list})\n",
    "    df = df[~df.matrix_index.isin(rated_books)]\n",
    "    df = df.sort_values(by=['predicted_rating'], ascending = False)\n",
    "    df = df[0:num_recommendations]\n",
    "    #calling a function to get book title and ids from goodreads\n",
    "    good_bid_list, title_list = get_books_details(list(df['matrix_index'])) \n",
    "    df['good_bid'] = good_bid_list\n",
    "    df['title'] = title_list\n",
    "    return df\n",
    "\n",
    "#Function to get book meta data(id and title) from goodreads dataset\n",
    "def get_books_details(index_list):\n",
    "    df_temp = pd.read_csv('csv/Final_Dataset.csv')\n",
    "    df_bid = pd.read_csv('csv/good_bid_index_bid.csv')\n",
    "    good_bid_list=[]\n",
    "    title_list=[]\n",
    "    for i in index_list:\n",
    "        good_bid = df_bid['good_bid'].loc[i]\n",
    "        good_bid_list.append(good_bid)\n",
    "        title_list.append(str(list(df_temp['good_title'].loc[df_temp['good_bid']==good_bid])))\n",
    "    return good_bid_list, title_list\n",
    "\n",
    "#Function to predict the recommendations for a user\n",
    "def predict(matrix, sim_matrix, user_id, num_recommendations=10):\n",
    "    matrix = matrix.T\n",
    "    predicted_rating_list = []\n",
    "    #user\n",
    "    #user_id = 0\n",
    "    #marking rated books\n",
    "    rated_books = list(np.where(matrix[user_id]!=0)[0])\n",
    "    #for each book\n",
    "    for index, value in np.ndenumerate(matrix[user_id]):\n",
    "        index = index[0]\n",
    "        #predict rating of books based on its similarity to other books\n",
    "        #for each non-rated book\n",
    "        if value == 0:\n",
    "            if np.sum(sim_matrix[index])==0: #to check division by zero error\n",
    "                predicted_rating = 0\n",
    "            else:\n",
    "                predicted_rating = np.dot(matrix[user_id],sim_matrix[index]) / np.sum(sim_matrix[index])\n",
    "            predicted_rating_list.append(predicted_rating)\n",
    "        #for rated book\n",
    "        else:\n",
    "            predicted_rating_list.append(value)\n",
    "    df = top_recommendations(predicted_rating_list, rated_books, num_recommendations) #num_recommendations\n",
    "    return df\n",
    "\n",
    "#Function to randomly manipulate ratings of highly rated books to evaluate the model\n",
    "def manipulate(user_id, dense_matrix, max_rating=3, num_books=3):\n",
    "    rated_books = list(np.where(dense_matrix.T[user_id]>=max_rating)[0])\n",
    "    selected_books = random.sample(rated_books, num_books)\n",
    "    for book in selected_books:\n",
    "        dense_matrix.T[user_id][book]=0\n",
    "    return selected_books, dense_matrix\n",
    "\n",
    "def similarity(matrix):\n",
    "    if isspmatrix(matrix):\n",
    "        return cosine_similarity(matrix)\n",
    "    else:\n",
    "        return cosine_similarity(csr_matrix(matrix))"
   ]
  },
  {
   "cell_type": "code",
   "execution_count": 2,
   "id": "7466f495",
   "metadata": {},
   "outputs": [
    {
     "name": "stdout",
     "output_type": "stream",
     "text": [
      "(5993, 433249)\n",
      "(433249, 5993)\n"
     ]
    }
   ],
   "source": [
    "sparse_matrix = load_data_into_matrix(sparse=True)\n",
    "print(sparse_matrix.shape)\n",
    "print(sparse_matrix.T.shape)"
   ]
  },
  {
   "cell_type": "code",
   "execution_count": 3,
   "id": "61e09935",
   "metadata": {},
   "outputs": [
    {
     "data": {
      "text/plain": [
       "<5993x433249 sparse matrix of type '<class 'numpy.float64'>'\n",
       "\twith 3261272 stored elements in Compressed Sparse Row format>"
      ]
     },
     "execution_count": 3,
     "metadata": {},
     "output_type": "execute_result"
    }
   ],
   "source": [
    "sparse_matrix"
   ]
  },
  {
   "cell_type": "markdown",
   "id": "473e47a5",
   "metadata": {},
   "source": [
    "###### Execute sim_matrix again after changing the ratings"
   ]
  },
  {
   "cell_type": "code",
   "execution_count": 4,
   "id": "d3ee890a",
   "metadata": {},
   "outputs": [],
   "source": [
    "#similarity between books\n",
    "sim_matrix = similarity(sparse_matrix)"
   ]
  },
  {
   "cell_type": "code",
   "execution_count": 6,
   "id": "f62fed47",
   "metadata": {},
   "outputs": [],
   "source": [
    "user_id=0\n",
    "num_recommendations=10"
   ]
  },
  {
   "cell_type": "code",
   "execution_count": 7,
   "id": "51ed20ea",
   "metadata": {},
   "outputs": [
    {
     "data": {
      "text/plain": [
       "(5993, 433249)"
      ]
     },
     "execution_count": 7,
     "metadata": {},
     "output_type": "execute_result"
    }
   ],
   "source": [
    "dense_matrix = sparse_matrix.toarray()\n",
    "dense_matrix.shape"
   ]
  },
  {
   "cell_type": "code",
   "execution_count": 8,
   "id": "35d5fdcf",
   "metadata": {},
   "outputs": [
    {
     "data": {
      "text/html": [
       "<div>\n",
       "<style scoped>\n",
       "    .dataframe tbody tr th:only-of-type {\n",
       "        vertical-align: middle;\n",
       "    }\n",
       "\n",
       "    .dataframe tbody tr th {\n",
       "        vertical-align: top;\n",
       "    }\n",
       "\n",
       "    .dataframe thead th {\n",
       "        text-align: right;\n",
       "    }\n",
       "</style>\n",
       "<table border=\"1\" class=\"dataframe\">\n",
       "  <thead>\n",
       "    <tr style=\"text-align: right;\">\n",
       "      <th></th>\n",
       "      <th>matrix_index</th>\n",
       "      <th>predicted_rating</th>\n",
       "      <th>good_bid</th>\n",
       "      <th>title</th>\n",
       "    </tr>\n",
       "  </thead>\n",
       "  <tbody>\n",
       "    <tr>\n",
       "      <th>3950</th>\n",
       "      <td>3950</td>\n",
       "      <td>0.367807</td>\n",
       "      <td>29780256</td>\n",
       "      <td>['Jane Eyre']</td>\n",
       "    </tr>\n",
       "    <tr>\n",
       "      <th>383</th>\n",
       "      <td>383</td>\n",
       "      <td>0.346994</td>\n",
       "      <td>2785278</td>\n",
       "      <td>['Wuthering Heights']</td>\n",
       "    </tr>\n",
       "    <tr>\n",
       "      <th>875</th>\n",
       "      <td>875</td>\n",
       "      <td>0.340467</td>\n",
       "      <td>26165692</td>\n",
       "      <td>['Hamlet']</td>\n",
       "    </tr>\n",
       "    <tr>\n",
       "      <th>37</th>\n",
       "      <td>37</td>\n",
       "      <td>0.339933</td>\n",
       "      <td>10846264</td>\n",
       "      <td>['The Adventures of Tom Sawyer']</td>\n",
       "    </tr>\n",
       "    <tr>\n",
       "      <th>761</th>\n",
       "      <td>761</td>\n",
       "      <td>0.337097</td>\n",
       "      <td>15802925</td>\n",
       "      <td>['Macbeth']</td>\n",
       "    </tr>\n",
       "    <tr>\n",
       "      <th>2707</th>\n",
       "      <td>2707</td>\n",
       "      <td>0.335061</td>\n",
       "      <td>144994</td>\n",
       "      <td>['The Velveteen Rabbit 8X8']</td>\n",
       "    </tr>\n",
       "    <tr>\n",
       "      <th>78</th>\n",
       "      <td>78</td>\n",
       "      <td>0.333632</td>\n",
       "      <td>22070742</td>\n",
       "      <td>['Los Miserables']</td>\n",
       "    </tr>\n",
       "    <tr>\n",
       "      <th>96</th>\n",
       "      <td>96</td>\n",
       "      <td>0.328377</td>\n",
       "      <td>3209316</td>\n",
       "      <td>['Emma']</td>\n",
       "    </tr>\n",
       "    <tr>\n",
       "      <th>1132</th>\n",
       "      <td>1132</td>\n",
       "      <td>0.324215</td>\n",
       "      <td>18306730</td>\n",
       "      <td>['Moby-Dick; or, The Whale']</td>\n",
       "    </tr>\n",
       "    <tr>\n",
       "      <th>3567</th>\n",
       "      <td>3567</td>\n",
       "      <td>0.315505</td>\n",
       "      <td>1415644</td>\n",
       "      <td>['A Little Princess']</td>\n",
       "    </tr>\n",
       "  </tbody>\n",
       "</table>\n",
       "</div>"
      ],
      "text/plain": [
       "      matrix_index  predicted_rating  good_bid  \\\n",
       "3950          3950          0.367807  29780256   \n",
       "383            383          0.346994   2785278   \n",
       "875            875          0.340467  26165692   \n",
       "37              37          0.339933  10846264   \n",
       "761            761          0.337097  15802925   \n",
       "2707          2707          0.335061    144994   \n",
       "78              78          0.333632  22070742   \n",
       "96              96          0.328377   3209316   \n",
       "1132          1132          0.324215  18306730   \n",
       "3567          3567          0.315505   1415644   \n",
       "\n",
       "                                 title  \n",
       "3950                     ['Jane Eyre']  \n",
       "383              ['Wuthering Heights']  \n",
       "875                         ['Hamlet']  \n",
       "37    ['The Adventures of Tom Sawyer']  \n",
       "761                        ['Macbeth']  \n",
       "2707      ['The Velveteen Rabbit 8X8']  \n",
       "78                  ['Los Miserables']  \n",
       "96                            ['Emma']  \n",
       "1132      ['Moby-Dick; or, The Whale']  \n",
       "3567             ['A Little Princess']  "
      ]
     },
     "execution_count": 8,
     "metadata": {},
     "output_type": "execute_result"
    }
   ],
   "source": [
    "predict(dense_matrix, sim_matrix, user_id, num_recommendations)"
   ]
  },
  {
   "cell_type": "code",
   "execution_count": null,
   "id": "3200350a",
   "metadata": {},
   "outputs": [],
   "source": []
  },
  {
   "cell_type": "markdown",
   "id": "a1f14c11",
   "metadata": {},
   "source": [
    "###### Evaluation"
   ]
  },
  {
   "cell_type": "code",
   "execution_count": 9,
   "id": "763687c5",
   "metadata": {},
   "outputs": [
    {
     "name": "stdout",
     "output_type": "stream",
     "text": [
      "[475, 756, 669]\n"
     ]
    }
   ],
   "source": [
    "selected_books, dense_matrix = manipulate(user_id, dense_matrix)\n",
    "print(selected_books)"
   ]
  },
  {
   "cell_type": "code",
   "execution_count": 10,
   "id": "fd53aff8",
   "metadata": {},
   "outputs": [],
   "source": [
    "sim_matrix = similarity(dense_matrix)"
   ]
  },
  {
   "cell_type": "code",
   "execution_count": 11,
   "id": "7f36ae77",
   "metadata": {},
   "outputs": [
    {
     "data": {
      "text/html": [
       "<div>\n",
       "<style scoped>\n",
       "    .dataframe tbody tr th:only-of-type {\n",
       "        vertical-align: middle;\n",
       "    }\n",
       "\n",
       "    .dataframe tbody tr th {\n",
       "        vertical-align: top;\n",
       "    }\n",
       "\n",
       "    .dataframe thead th {\n",
       "        text-align: right;\n",
       "    }\n",
       "</style>\n",
       "<table border=\"1\" class=\"dataframe\">\n",
       "  <thead>\n",
       "    <tr style=\"text-align: right;\">\n",
       "      <th></th>\n",
       "      <th>matrix_index</th>\n",
       "      <th>predicted_rating</th>\n",
       "      <th>good_bid</th>\n",
       "      <th>title</th>\n",
       "    </tr>\n",
       "  </thead>\n",
       "  <tbody>\n",
       "    <tr>\n",
       "      <th>756</th>\n",
       "      <td>756</td>\n",
       "      <td>0.362883</td>\n",
       "      <td>8514833</td>\n",
       "      <td>['Romeo and Juliet']</td>\n",
       "    </tr>\n",
       "    <tr>\n",
       "      <th>669</th>\n",
       "      <td>669</td>\n",
       "      <td>0.324551</td>\n",
       "      <td>6497728</td>\n",
       "      <td>['Priide and Prejudice']</td>\n",
       "    </tr>\n",
       "    <tr>\n",
       "      <th>37</th>\n",
       "      <td>37</td>\n",
       "      <td>0.300850</td>\n",
       "      <td>10846264</td>\n",
       "      <td>['The Adventures of Tom Sawyer']</td>\n",
       "    </tr>\n",
       "    <tr>\n",
       "      <th>2707</th>\n",
       "      <td>2707</td>\n",
       "      <td>0.298615</td>\n",
       "      <td>144994</td>\n",
       "      <td>['The Velveteen Rabbit 8X8']</td>\n",
       "    </tr>\n",
       "    <tr>\n",
       "      <th>3950</th>\n",
       "      <td>3950</td>\n",
       "      <td>0.298429</td>\n",
       "      <td>29780256</td>\n",
       "      <td>['Jane Eyre']</td>\n",
       "    </tr>\n",
       "    <tr>\n",
       "      <th>875</th>\n",
       "      <td>875</td>\n",
       "      <td>0.290467</td>\n",
       "      <td>26165692</td>\n",
       "      <td>['Hamlet']</td>\n",
       "    </tr>\n",
       "    <tr>\n",
       "      <th>761</th>\n",
       "      <td>761</td>\n",
       "      <td>0.288109</td>\n",
       "      <td>15802925</td>\n",
       "      <td>['Macbeth']</td>\n",
       "    </tr>\n",
       "    <tr>\n",
       "      <th>383</th>\n",
       "      <td>383</td>\n",
       "      <td>0.287018</td>\n",
       "      <td>2785278</td>\n",
       "      <td>['Wuthering Heights']</td>\n",
       "    </tr>\n",
       "    <tr>\n",
       "      <th>1132</th>\n",
       "      <td>1132</td>\n",
       "      <td>0.284218</td>\n",
       "      <td>18306730</td>\n",
       "      <td>['Moby-Dick; or, The Whale']</td>\n",
       "    </tr>\n",
       "    <tr>\n",
       "      <th>78</th>\n",
       "      <td>78</td>\n",
       "      <td>0.283256</td>\n",
       "      <td>22070742</td>\n",
       "      <td>['Los Miserables']</td>\n",
       "    </tr>\n",
       "  </tbody>\n",
       "</table>\n",
       "</div>"
      ],
      "text/plain": [
       "      matrix_index  predicted_rating  good_bid  \\\n",
       "756            756          0.362883   8514833   \n",
       "669            669          0.324551   6497728   \n",
       "37              37          0.300850  10846264   \n",
       "2707          2707          0.298615    144994   \n",
       "3950          3950          0.298429  29780256   \n",
       "875            875          0.290467  26165692   \n",
       "761            761          0.288109  15802925   \n",
       "383            383          0.287018   2785278   \n",
       "1132          1132          0.284218  18306730   \n",
       "78              78          0.283256  22070742   \n",
       "\n",
       "                                 title  \n",
       "756               ['Romeo and Juliet']  \n",
       "669           ['Priide and Prejudice']  \n",
       "37    ['The Adventures of Tom Sawyer']  \n",
       "2707      ['The Velveteen Rabbit 8X8']  \n",
       "3950                     ['Jane Eyre']  \n",
       "875                         ['Hamlet']  \n",
       "761                        ['Macbeth']  \n",
       "383              ['Wuthering Heights']  \n",
       "1132      ['Moby-Dick; or, The Whale']  \n",
       "78                  ['Los Miserables']  "
      ]
     },
     "execution_count": 11,
     "metadata": {},
     "output_type": "execute_result"
    }
   ],
   "source": [
    "predict(dense_matrix, sim_matrix, user_id, num_recommendations)"
   ]
  },
  {
   "cell_type": "code",
   "execution_count": null,
   "id": "e6669aef",
   "metadata": {},
   "outputs": [],
   "source": []
  }
 ],
 "metadata": {
  "kernelspec": {
   "display_name": "Python 3 (ipykernel)",
   "language": "python",
   "name": "python3"
  },
  "language_info": {
   "codemirror_mode": {
    "name": "ipython",
    "version": 3
   },
   "file_extension": ".py",
   "mimetype": "text/x-python",
   "name": "python",
   "nbconvert_exporter": "python",
   "pygments_lexer": "ipython3",
   "version": "3.9.7"
  }
 },
 "nbformat": 4,
 "nbformat_minor": 5
}
